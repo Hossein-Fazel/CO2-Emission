{
 "cells": [
  {
   "cell_type": "markdown",
   "metadata": {
    "pycharm": {
     "name": "#%% md\n"
    }
   },
   "source": [
    "# Co2 emission prediction"
   ]
  },
  {
   "cell_type": "markdown",
   "metadata": {
    "pycharm": {
     "name": "#%% md\n"
    }
   },
   "source": [
    "## Import libraries"
   ]
  },
  {
   "cell_type": "code",
   "execution_count": null,
   "metadata": {
    "pycharm": {
     "name": "#%%\n"
    }
   },
   "outputs": [],
   "source": [
    "import pandas as pd\n",
    "import matplotlib.pyplot as plt\n",
    "from sklearn.model_selection import train_test_split\n",
    "from sklearn.ensemble import GradientBoostingRegressor\n",
    "from sklearn.metrics import r2_score"
   ]
  },
  {
   "cell_type": "markdown",
   "metadata": {
    "pycharm": {
     "name": "#%% md\n"
    }
   },
   "source": [
    "## Reading data"
   ]
  },
  {
   "cell_type": "code",
   "execution_count": null,
   "metadata": {
    "pycharm": {
     "name": "#%%\n"
    }
   },
   "outputs": [],
   "source": [
    "dataFrame = pd.read_csv(\"CO2 Emissions_Canada.csv\")"
   ]
  },
  {
   "cell_type": "markdown",
   "metadata": {
    "pycharm": {
     "name": "#%% md\n"
    }
   },
   "source": [
    "## Data processing"
   ]
  },
  {
   "cell_type": "code",
   "execution_count": null,
   "metadata": {
    "pycharm": {
     "name": "#%%\n"
    }
   },
   "outputs": [],
   "source": [
    "dataFrame[\"Fuel Type\"] = dataFrame[\"Fuel Type\"].replace(\"Z\", \"Premium gasoline\")\n",
    "dataFrame[\"Fuel Type\"] = dataFrame[\"Fuel Type\"].replace(\"D\", \"Diesel\")\n",
    "dataFrame[\"Fuel Type\"] = dataFrame[\"Fuel Type\"].replace(\"X\", \"Regular gasoline\")\n",
    "dataFrame[\"Fuel Type\"] = dataFrame[\"Fuel Type\"].replace(\"E\", \"Ethanol (E85)\")\n",
    "dataFrame[\"Fuel Type\"] = dataFrame[\"Fuel Type\"].replace(\"N\", \"Natural gas\")"
   ]
  },
  {
   "cell_type": "markdown",
   "metadata": {
    "pycharm": {
     "name": "#%% md\n"
    }
   },
   "source": [
    "## Data visualision"
   ]
  },
  {
   "cell_type": "code",
   "execution_count": null,
   "metadata": {
    "pycharm": {
     "name": "#%%\n"
    }
   },
   "outputs": [],
   "source": [
    "plt.scatter(dataFrame[\"Engine Size(L)\"], dataFrame[\"CO2 Emissions(g/km)\"],  color=\"blue\")\n",
    "plt.xlabel(\"Engine size\")\n",
    "plt.ylabel(\"Co2 Emission(g/km)\")\n",
    "plt.show()\n",
    "\n",
    "plt.scatter(dataFrame[\"Cylinders\"], dataFrame[\"CO2 Emissions(g/km)\"],  color=\"blue\")\n",
    "plt.xlabel(\"Cylinders\")\n",
    "plt.ylabel(\"Co2 Emission(g/km)\")\n",
    "plt.show()\n",
    "\n",
    "plt.scatter(dataFrame[\"Fuel Type\"], dataFrame[\"CO2 Emissions(g/km)\"],  color=\"blue\")\n",
    "plt.xlabel(\"Fuel type\")\n",
    "plt.ylabel(\"Co2 Emission(g/km)\")\n",
    "plt.show()\n",
    "\n",
    "plt.scatter(dataFrame[\"Fuel Consumption Hwy (L/100 km)\"], dataFrame[\"CO2 Emissions(g/km)\"],  color=\"blue\")\n",
    "plt.xlabel(\"Fuel Consumption Hwy (L/100 km)\")\n",
    "plt.ylabel(\"Co2 Emission(g/km)\")\n",
    "plt.show()\n",
    "\n",
    "plt.scatter(dataFrame[\"Fuel Consumption City (L/100 km)\"], dataFrame[\"CO2 Emissions(g/km)\"],  color=\"blue\")\n",
    "plt.xlabel(\"Fuel Consumption City (L/100 km)\")\n",
    "plt.ylabel(\"Co2 Emission(g/km)\")\n",
    "plt.show()\n",
    "\n",
    "plt.scatter(dataFrame[\"Fuel Consumption Comb (L/100 km)\"], dataFrame[\"CO2 Emissions(g/km)\"],  color=\"blue\")\n",
    "plt.xlabel(\"Fuel Consumption Comb (L/100 km)\")\n",
    "plt.ylabel(\"Co2 Emission(g/km)\")\n",
    "plt.show()"
   ]
  },
  {
   "cell_type": "markdown",
   "metadata": {
    "pycharm": {
     "name": "#%% md\n"
    }
   },
   "source": [
    "## Finding the best \"random state\" and making the regression model"
   ]
  },
  {
   "cell_type": "code",
   "execution_count": null,
   "metadata": {
    "pycharm": {
     "name": "#%%\n"
    }
   },
   "outputs": [],
   "source": [
    "x = dataFrame[[\"Engine Size(L)\", \"Cylinders\", \"Fuel Consumption Comb (L/100 km)\"]]\n",
    "y = dataFrame[[\"CO2 Emissions(g/km)\"]]\n",
    "\n",
    "r2 = {}\n",
    "for num in range(1,50):\n",
    "    X_train, X_test, y_train, y_test = train_test_split(x, y, train_size= 0.8, random_state= num)\n",
    "\n",
    "    GBR = GradientBoostingRegressor()\n",
    "    GBR.fit(X_train, y_train.values.ravel())\n",
    "    y_hat = GBR.predict(X_test)\n",
    "\n",
    "    r2.update({f\"{num}\": r2_score(y_test,y_hat)})\n",
    "    \n",
    "r2 = {k: v for k,v in r2.items() if v==max(r2.values())}\n",
    "accuracy = list(r2.values())[0]*100\n",
    "accuracy = round(accuracy,2)\n",
    "best_random_state = list(r2.keys())[0]\n",
    "print(f\"The best random_state is {best_random_state} with {accuracy} percent accuracy\")\n",
    "\n",
    "X_train, X_test, y_train, y_test = train_test_split(x, y, train_size= 0.8, random_state= 25)#25 is the best random state\n",
    "GBR = GradientBoostingRegressor()\n",
    "GBR.fit(X_train, y_train.values.ravel())"
   ]
  },
  {
   "cell_type": "markdown",
   "metadata": {
    "pycharm": {
     "name": "#%% md\n"
    }
   },
   "source": [
    "## Prediction"
   ]
  },
  {
   "cell_type": "code",
   "execution_count": null,
   "metadata": {
    "pycharm": {
     "name": "#%%\n"
    }
   },
   "outputs": [],
   "source": [
    "ES = input(\"Enter the engine size (Liter)=> \")\n",
    "CS = input(\"Enter the Cylinders count => \")\n",
    "FC = input(\"Enter the fuel consumption (L/100 km) => \")\n",
    "user_data = {\n",
    "    \"Engine Size(L)\" : ES,\n",
    "    \"Cylinders\" : CS,\n",
    "    \"Fuel Consumption Comb (L/100 km)\" : FC\n",
    "}\n",
    "user_data = pd.DataFrame(user_data, index=[0])\n",
    "y_predict = GBR.predict(user_data)\n",
    "y_predict = y_predict[0]\n",
    "y_predict = round(y_predict,2)\n",
    "print(f\"Your predicted Co2 emission value is {y_predict} with {accuracy} percent accuracy\")"
   ]
  }
 ],
 "metadata": {
  "kernelspec": {
   "display_name": "Python 3 (ipykernel)",
   "language": "python",
   "name": "python3"
  },
  "language_info": {
   "codemirror_mode": {
    "name": "ipython",
    "version": 3
   },
   "file_extension": ".py",
   "mimetype": "text/x-python",
   "name": "python",
   "nbconvert_exporter": "python",
   "pygments_lexer": "ipython3",
   "version": "3.10.5"
  }
 },
 "nbformat": 4,
 "nbformat_minor": 1
}